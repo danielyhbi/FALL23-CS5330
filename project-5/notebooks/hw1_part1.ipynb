{
  "cells": [
    {
      "cell_type": "code",
      "execution_count": 2,
      "metadata": {
        "collapsed": false
      },
      "outputs": [],
      "source": [
        "# For tips on running notebooks in Google Colab, see\n",
        "# https://pytorch.org/tutorials/beginner/colab\n",
        "%matplotlib inline"
      ]
    },
    {
      "cell_type": "markdown",
      "metadata": {},
      "source": [
        "\n",
        "[Learn the Basics](intro.html) ||\n",
        "**Quickstart** ||\n",
        "[Tensors](tensorqs_tutorial.html) ||\n",
        "[Datasets & DataLoaders](data_tutorial.html) ||\n",
        "[Transforms](transforms_tutorial.html) ||\n",
        "[Build Model](buildmodel_tutorial.html) ||\n",
        "[Autograd](autogradqs_tutorial.html) ||\n",
        "[Optimization](optimization_tutorial.html) ||\n",
        "[Save & Load Model](saveloadrun_tutorial.html)\n",
        "\n",
        "# Quickstart\n",
        "This section runs through the API for common tasks in machine learning. Refer to the links in each section to dive deeper.\n",
        "\n",
        "## Working with data\n",
        "PyTorch has two [primitives to work with data](https://pytorch.org/docs/stable/data.html):\n",
        "``torch.utils.data.DataLoader`` and ``torch.utils.data.Dataset``.\n",
        "``Dataset`` stores the samples and their corresponding labels, and ``DataLoader`` wraps an iterable around\n",
        "the ``Dataset``.\n"
      ]
    },
    {
      "cell_type": "code",
      "execution_count": 3,
      "metadata": {
        "collapsed": false
      },
      "outputs": [],
      "source": [
        "import torch\n",
        "from torch import nn\n",
        "from torch.utils.data import DataLoader\n",
        "from torchvision import datasets\n",
        "from torchvision.transforms import ToTensor\n",
        "import torchvision.transforms as transforms\n",
        "import torch.nn.functional as F\n",
        "import matplotlib.pyplot as plt"
      ]
    },
    {
      "cell_type": "markdown",
      "metadata": {},
      "source": [
        "PyTorch offers domain-specific libraries such as [TorchText](https://pytorch.org/text/stable/index.html),\n",
        "[TorchVision](https://pytorch.org/vision/stable/index.html), and [TorchAudio](https://pytorch.org/audio/stable/index.html),\n",
        "all of which include datasets. For this tutorial, we  will be using a TorchVision dataset.\n",
        "\n",
        "The ``torchvision.datasets`` module contains ``Dataset`` objects for many real-world vision data like\n",
        "CIFAR, COCO ([full list here](https://pytorch.org/vision/stable/datasets.html)). In this tutorial, we\n",
        "use the FashionMNIST dataset. Every TorchVision ``Dataset`` includes two arguments: ``transform`` and\n",
        "``target_transform`` to modify the samples and labels respectively.\n",
        "\n"
      ]
    },
    {
      "cell_type": "code",
      "execution_count": 4,
      "metadata": {
        "collapsed": false
      },
      "outputs": [],
      "source": [
        "random_seed = 1\n",
        "torch.backends.cudnn.enabled = False\n",
        "torch.manual_seed(random_seed)\n",
        "\n",
        "# Set up transformer\n",
        "# note The values 0.1307 and 0.3081 are the global mean and standard deviation of the MNIST dataset\n",
        "mnist_global_mean = 0.1307\n",
        "mnist_global_stdev = 0.3081\n",
        "transformer = transforms.Compose([transforms.ToTensor(), transforms.Normalize((mnist_global_mean,), (mnist_global_stdev,))])\n",
        "\n",
        "# Download training data from open datasets.\n",
        "training_data = datasets.MNIST(\n",
        "    root=\"./data\",\n",
        "    train=True,\n",
        "    download=True,\n",
        "    transform=transformer,\n",
        ")\n",
        "\n",
        "# Download test data from open datasets.\n",
        "test_data = datasets.MNIST(\n",
        "    root=\"./data\",\n",
        "    train=False,\n",
        "    download=True,\n",
        "    transform=transformer,\n",
        ")"
      ]
    },
    {
      "cell_type": "markdown",
      "metadata": {},
      "source": [
        "We pass the ``Dataset`` as an argument to ``DataLoader``. This wraps an iterable over our dataset, and supports\n",
        "automatic batching, sampling, shuffling and multiprocess data loading. Here we define a batch size of 64, i.e. each element\n",
        "in the dataloader iterable will return a batch of 64 features and labels.\n",
        "\n"
      ]
    },
    {
      "cell_type": "code",
      "execution_count": 5,
      "metadata": {},
      "outputs": [
        {
          "name": "stdout",
          "output_type": "stream",
          "text": [
            "Dataset MNIST\n",
            "    Number of datapoints: 60000\n",
            "    Root location: ./data\n",
            "    Split: Train\n",
            "    StandardTransform\n",
            "Transform: Compose(\n",
            "               ToTensor()\n",
            "               Normalize(mean=(0.1307,), std=(0.3081,))\n",
            "           )\n"
          ]
        }
      ],
      "source": [
        "print(training_data)"
      ]
    },
    {
      "cell_type": "code",
      "execution_count": 6,
      "metadata": {
        "collapsed": false
      },
      "outputs": [
        {
          "name": "stdout",
          "output_type": "stream",
          "text": [
            "Shape of X [N, C, H, W]: torch.Size([1000, 1, 28, 28])\n",
            "Shape of y: torch.Size([1000]) torch.int64\n"
          ]
        }
      ],
      "source": [
        "batch_size_train = 64\n",
        "batch_size_test = 1000\n",
        "\n",
        "# Create data loaders.\n",
        "train_dataloader = DataLoader(training_data, batch_size=batch_size_train, shuffle=True)\n",
        "test_dataloader = DataLoader(test_data, batch_size=batch_size_test, shuffle=True)\n",
        "\n",
        "for X, y in test_dataloader:\n",
        "    print(f\"Shape of X [N, C, H, W]: {X.shape}\")\n",
        "    print(f\"Shape of y: {y.shape} {y.dtype}\")\n",
        "    break"
      ]
    },
    {
      "cell_type": "markdown",
      "metadata": {},
      "source": [
        "Read more about [loading data in PyTorch](data_tutorial.html).\n",
        "\n",
        "\n"
      ]
    },
    {
      "cell_type": "code",
      "execution_count": 7,
      "metadata": {},
      "outputs": [
        {
          "data": {
            "image/png": "[encoded data removed]",
            "text/plain": [
              "<Figure size 640x480 with 6 Axes>"
            ]
          },
          "metadata": {},
          "output_type": "display_data"
        }
      ],
      "source": [
        "# import matplotlib.pyplot as plt\n",
        "\n",
        "examples = enumerate(train_dataloader)\n",
        "batch_idx, (example_data, example_targets) = next(examples)\n",
        "\n",
        "fig = plt.figure()\n",
        "for i in range(6):\n",
        "  plt.subplot(2,3,i+1)\n",
        "  plt.tight_layout()\n",
        "  plt.imshow(example_data[i][0], cmap='gray', interpolation='none')\n",
        "  plt.title(\"Ground Truth: {}\".format(example_targets[i]))\n",
        "  plt.xticks([])\n",
        "  plt.yticks([])\n",
        "plt.show()"
      ]
    },
    {
      "cell_type": "markdown",
      "metadata": {},
      "source": [
        "--------------\n",
        "\n",
        "\n"
      ]
    },
    {
      "cell_type": "markdown",
      "metadata": {},
      "source": [
        "## Creating Models\n",
        "To define a neural network in PyTorch, we create a class that inherits\n",
        "from [nn.Module](https://pytorch.org/docs/stable/generated/torch.nn.Module.html). We define the layers of the network\n",
        "in the ``__init__`` function and specify how data will pass through the network in the ``forward`` function. To accelerate\n",
        "operations in the neural network, we move it to the GPU or MPS if available.\n",
        "\n"
      ]
    },
    {
      "cell_type": "code",
      "execution_count": 8,
      "metadata": {
        "collapsed": false
      },
      "outputs": [
        {
          "name": "stdout",
          "output_type": "stream",
          "text": [
            "Using mps device\n",
            "NeuralNetwork(\n",
            "  (feature_maps_stack): Sequential(\n",
            "    (0): Conv2d(1, 10, kernel_size=(5, 5), stride=(1, 1))\n",
            "    (1): MaxPool2d(kernel_size=2, stride=2, padding=0, dilation=1, ceil_mode=False)\n",
            "    (2): ReLU()\n",
            "    (3): Conv2d(10, 20, kernel_size=(5, 5), stride=(1, 1))\n",
            "    (4): Dropout2d(p=0.5, inplace=False)\n",
            "    (5): MaxPool2d(kernel_size=2, stride=2, padding=0, dilation=1, ceil_mode=False)\n",
            "    (6): ReLU()\n",
            "  )\n",
            "  (classify_stack): Sequential(\n",
            "    (0): Flatten(start_dim=1, end_dim=-1)\n",
            "    (1): Linear(in_features=320, out_features=50, bias=True)\n",
            "    (2): ReLU()\n",
            "    (3): Linear(in_features=50, out_features=10, bias=True)\n",
            "  )\n",
            ")\n"
          ]
        }
      ],
      "source": [
        "# Get cpu, gpu or mps device for training.\n",
        "device = (\n",
        "    \"cuda\"\n",
        "    if torch.cuda.is_available()\n",
        "    else \"mps\"\n",
        "    if torch.backends.mps.is_available()\n",
        "    else \"cpu\"\n",
        ")\n",
        "print(f\"Using {device} device\")\n",
        "\n",
        "# Define a convolution neural model\n",
        "class NeuralNetwork(nn.Module):\n",
        "    def __init__(self):\n",
        "        super(NeuralNetwork, self).__init__()\n",
        "\n",
        "        # Feature Extraction Stage\n",
        "        self.feature_maps_stack = nn.Sequential(\n",
        "            # A convolution layer with 10 5x5 filters\n",
        "            nn.Conv2d(in_channels=1, out_channels=10, kernel_size=5),\n",
        "            # A max pooling layer with a 2x2 window and a ReLU function applied\n",
        "            nn.MaxPool2d(kernel_size=2),\n",
        "            nn.ReLU(),\n",
        "            # A convolution layer with 20 5x5 filters\n",
        "            nn.Conv2d(in_channels=10, out_channels=20, kernel_size=5),\n",
        "            # A dropout layer with a 0.5 dropout rate (50%)\n",
        "            nn.Dropout2d(p=0.5),\n",
        "            # A max pooling layer with a 2x2 window and a ReLU function applied\n",
        "            nn.MaxPool2d(kernel_size=2),\n",
        "            nn.ReLU()\n",
        "        )\n",
        "        \n",
        "        # Classification Stage\n",
        "        self.classify_stack = nn.Sequential(\n",
        "            # A flattening operation \n",
        "            nn.Flatten(),\n",
        "            # followed by a fully connected Linear layer with 50 nodes \n",
        "            nn.Linear(320, 50),\n",
        "            # and a ReLU function on the output\n",
        "            nn.ReLU(),\n",
        "            # A final fully connected Linear layer with 10 nodes\n",
        "            nn.Linear(50, 10)\n",
        "        )\n",
        "        \n",
        "    def forward(self, x):\n",
        "        features = self.feature_maps_stack(x)\n",
        "        logits = self.classify_stack(features)\n",
        "        \n",
        "        # and the log_softmax function applied to the output\n",
        "        return nn.functional.log_softmax(logits, dim=1)\n",
        "\n",
        "model = NeuralNetwork().to(device)\n",
        "print(model)"
      ]
    },
    {
      "cell_type": "code",
      "execution_count": 31,
      "metadata": {},
      "outputs": [
        {
          "data": {
            "image/svg+xml": [
              "<?xml version=\"1.0\" encoding=\"UTF-8\" standalone=\"no\"?>\n",
              "<!DOCTYPE svg PUBLIC \"-//W3C//DTD SVG 1.1//EN\"\n",
              " \"http://www.w3.org/Graphics/SVG/1.1/DTD/svg11.dtd\">\n",
              "<!-- Generated by graphviz version 9.0.0 (20230911.1827)\n",
              " -->\n",
              "<!-- Pages: 1 -->\n",
              "<svg width=\"840pt\" height=\"864pt\"\n",
              " viewBox=\"0.00 0.00 840.34 864.00\" xmlns=\"http://www.w3.org/2000/svg\" xmlns:xlink=\"http://www.w3.org/1999/xlink\">\n",
              "<g id=\"graph0\" class=\"graph\" transform=\"scale(0.946331 0.946331) rotate(0) translate(4 909)\">\n",
              "<polygon fill=\"white\" stroke=\"none\" points=\"-4,4 -4,-909 884,-909 884,4 -4,4\"/>\n",
              "<!-- 10855339632 -->\n",
              "<g id=\"node1\" class=\"node\">\n",
              "<title>10855339632</title>\n",
              "<polygon fill=\"#caff70\" stroke=\"black\" points=\"678,-31.25 608,-31.25 608,0 678,0 678,-31.25\"/>\n",
              "<text text-anchor=\"middle\" x=\"643\" y=\"-5.75\" font-family=\"monospace\" font-size=\"10.00\"> (64, 10)</text>\n",
              "</g>\n",
              "<!-- 10849583008 -->\n",
              "<g id=\"node2\" class=\"node\">\n",
              "<title>10849583008</title>\n",
              "<polygon fill=\"lightgrey\" stroke=\"black\" points=\"696,-86.5 590,-86.5 590,-67.25 696,-67.25 696,-86.5\"/>\n",
              "<text text-anchor=\"middle\" x=\"643\" y=\"-73\" font-family=\"monospace\" font-size=\"10.00\">ToCopyBackward0</text>\n",
              "</g>\n",
              "<!-- 10849583008&#45;&gt;10855339632 -->\n",
              "<g id=\"edge29\" class=\"edge\">\n",
              "<title>10849583008&#45;&gt;10855339632</title>\n",
              "<path fill=\"none\" stroke=\"black\" d=\"M643,-66.88C643,-60.54 643,-51.7 643,-43.2\"/>\n",
              "<polygon fill=\"black\" stroke=\"black\" points=\"646.5,-43.22 643,-33.22 639.5,-43.22 646.5,-43.22\"/>\n",
              "</g>\n",
              "<!-- 10848192160 -->\n",
              "<g id=\"node3\" class=\"node\">\n",
              "<title>10848192160</title>\n",
              "<polygon fill=\"lightgrey\" stroke=\"black\" points=\"708,-141.75 578,-141.75 578,-122.5 708,-122.5 708,-141.75\"/>\n",
              "<text text-anchor=\"middle\" x=\"643\" y=\"-128.25\" font-family=\"monospace\" font-size=\"10.00\">LogSoftmaxBackward0</text>\n",
              "</g>\n",
              "<!-- 10848192160&#45;&gt;10849583008 -->\n",
              "<g id=\"edge1\" class=\"edge\">\n",
              "<title>10848192160&#45;&gt;10849583008</title>\n",
              "<path fill=\"none\" stroke=\"black\" d=\"M643,-122.33C643,-115.82 643,-106.67 643,-98.37\"/>\n",
              "<polygon fill=\"black\" stroke=\"black\" points=\"646.5,-98.37 643,-88.37 639.5,-98.37 646.5,-98.37\"/>\n",
              "</g>\n",
              "<!-- 10849581904 -->\n",
              "<g id=\"node4\" class=\"node\">\n",
              "<title>10849581904</title>\n",
              "<polygon fill=\"lightgrey\" stroke=\"black\" points=\"696,-197 590,-197 590,-177.75 696,-177.75 696,-197\"/>\n",
              "<text text-anchor=\"middle\" x=\"643\" y=\"-183.5\" font-family=\"monospace\" font-size=\"10.00\">LinearBackward0</text>\n",
              "</g>\n",
              "<!-- 10849581904&#45;&gt;10848192160 -->\n",
              "<g id=\"edge2\" class=\"edge\">\n",
              "<title>10849581904&#45;&gt;10848192160</title>\n",
              "<path fill=\"none\" stroke=\"black\" d=\"M643,-177.58C643,-171.07 643,-161.92 643,-153.62\"/>\n",
              "<polygon fill=\"black\" stroke=\"black\" points=\"646.5,-153.62 643,-143.62 639.5,-153.62 646.5,-153.62\"/>\n",
              "</g>\n",
              "<!-- 10849614960 -->\n",
              "<g id=\"node5\" class=\"node\">\n",
              "<title>10849614960</title>\n",
              "<polygon fill=\"lightgrey\" stroke=\"black\" points=\"558,-252.25 464,-252.25 464,-233 558,-233 558,-252.25\"/>\n",
              "<text text-anchor=\"middle\" x=\"511\" y=\"-238.75\" font-family=\"monospace\" font-size=\"10.00\">ReluBackward0</text>\n",
              "</g>\n",
              "<!-- 10849614960&#45;&gt;10849581904 -->\n",
              "<g id=\"edge3\" class=\"edge\">\n",
              "<title>10849614960&#45;&gt;10849581904</title>\n",
              "<path fill=\"none\" stroke=\"black\" d=\"M533.39,-232.59C554.44,-224.1 586.2,-211.29 610.12,-201.64\"/>\n",
              "<polygon fill=\"black\" stroke=\"black\" points=\"611.13,-205.01 619.09,-198.02 608.51,-198.51 611.13,-205.01\"/>\n",
              "</g>\n",
              "<!-- 10849614720 -->\n",
              "<g id=\"node6\" class=\"node\">\n",
              "<title>10849614720</title>\n",
              "<polygon fill=\"lightgrey\" stroke=\"black\" points=\"548,-313.12 442,-313.12 442,-293.88 548,-293.88 548,-313.12\"/>\n",
              "<text text-anchor=\"middle\" x=\"495\" y=\"-299.62\" font-family=\"monospace\" font-size=\"10.00\">LinearBackward0</text>\n",
              "</g>\n",
              "<!-- 10849614720&#45;&gt;10849614960 -->\n",
              "<g id=\"edge4\" class=\"edge\">\n",
              "<title>10849614720&#45;&gt;10849614960</title>\n",
              "<path fill=\"none\" stroke=\"black\" d=\"M497.43,-293.56C499.59,-285.6 502.83,-273.69 505.6,-263.49\"/>\n",
              "<polygon fill=\"black\" stroke=\"black\" points=\"508.91,-264.68 508.15,-254.11 502.15,-262.84 508.91,-264.68\"/>\n",
              "</g>\n",
              "<!-- 10849624720 -->\n",
              "<g id=\"node7\" class=\"node\">\n",
              "<title>10849624720</title>\n",
              "<polygon fill=\"lightgrey\" stroke=\"black\" points=\"414,-374 320,-374 320,-354.75 414,-354.75 414,-374\"/>\n",
              "<text text-anchor=\"middle\" x=\"367\" y=\"-360.5\" font-family=\"monospace\" font-size=\"10.00\">ViewBackward0</text>\n",
              "</g>\n",
              "<!-- 10849624720&#45;&gt;10849614720 -->\n",
              "<g id=\"edge5\" class=\"edge\">\n",
              "<title>10849624720&#45;&gt;10849614720</title>\n",
              "<path fill=\"none\" stroke=\"black\" d=\"M386.72,-354.3C407.64,-344.68 440.94,-329.37 465.09,-318.26\"/>\n",
              "<polygon fill=\"black\" stroke=\"black\" points=\"466.47,-321.47 474.09,-314.12 463.55,-315.12 466.47,-321.47\"/>\n",
              "</g>\n",
              "<!-- 10849620064 -->\n",
              "<g id=\"node8\" class=\"node\">\n",
              "<title>10849620064</title>\n",
              "<polygon fill=\"lightgrey\" stroke=\"black\" points=\"400,-434.88 306,-434.88 306,-415.62 400,-415.62 400,-434.88\"/>\n",
              "<text text-anchor=\"middle\" x=\"353\" y=\"-421.38\" font-family=\"monospace\" font-size=\"10.00\">ReluBackward0</text>\n",
              "</g>\n",
              "<!-- 10849620064&#45;&gt;10849624720 -->\n",
              "<g id=\"edge6\" class=\"edge\">\n",
              "<title>10849620064&#45;&gt;10849624720</title>\n",
              "<path fill=\"none\" stroke=\"black\" d=\"M355.13,-415.31C357,-407.44 359.79,-395.7 362.2,-385.57\"/>\n",
              "<polygon fill=\"black\" stroke=\"black\" points=\"365.6,-386.41 364.5,-375.87 358.79,-384.79 365.6,-386.41\"/>\n",
              "</g>\n",
              "<!-- 10849621408 -->\n",
              "<g id=\"node9\" class=\"node\">\n",
              "<title>10849621408</title>\n",
              "<polygon fill=\"lightgrey\" stroke=\"black\" points=\"415,-495.75 291,-495.75 291,-476.5 415,-476.5 415,-495.75\"/>\n",
              "<text text-anchor=\"middle\" x=\"353\" y=\"-482.25\" font-family=\"monospace\" font-size=\"10.00\">MaxPool2DBackward0</text>\n",
              "</g>\n",
              "<!-- 10849621408&#45;&gt;10849620064 -->\n",
              "<g id=\"edge7\" class=\"edge\">\n",
              "<title>10849621408&#45;&gt;10849620064</title>\n",
              "<path fill=\"none\" stroke=\"black\" d=\"M353,-476.18C353,-468.4 353,-456.83 353,-446.78\"/>\n",
              "<polygon fill=\"black\" stroke=\"black\" points=\"356.5,-446.79 353,-436.79 349.5,-446.79 356.5,-446.79\"/>\n",
              "</g>\n",
              "<!-- 10849622992 -->\n",
              "<g id=\"node10\" class=\"node\">\n",
              "<title>10849622992</title>\n",
              "<polygon fill=\"lightgrey\" stroke=\"black\" points=\"397,-551 309,-551 309,-531.75 397,-531.75 397,-551\"/>\n",
              "<text text-anchor=\"middle\" x=\"353\" y=\"-537.5\" font-family=\"monospace\" font-size=\"10.00\">MulBackward0</text>\n",
              "</g>\n",
              "<!-- 10849622992&#45;&gt;10849621408 -->\n",
              "<g id=\"edge8\" class=\"edge\">\n",
              "<title>10849622992&#45;&gt;10849621408</title>\n",
              "<path fill=\"none\" stroke=\"black\" d=\"M353,-531.58C353,-525.07 353,-515.92 353,-507.62\"/>\n",
              "<polygon fill=\"black\" stroke=\"black\" points=\"356.5,-507.62 353,-497.62 349.5,-507.62 356.5,-507.62\"/>\n",
              "</g>\n",
              "<!-- 10849625968 -->\n",
              "<g id=\"node11\" class=\"node\">\n",
              "<title>10849625968</title>\n",
              "<polygon fill=\"lightgrey\" stroke=\"black\" points=\"421,-606.25 285,-606.25 285,-587 421,-587 421,-606.25\"/>\n",
              "<text text-anchor=\"middle\" x=\"353\" y=\"-592.75\" font-family=\"monospace\" font-size=\"10.00\">ConvolutionBackward0</text>\n",
              "</g>\n",
              "<!-- 10849625968&#45;&gt;10849622992 -->\n",
              "<g id=\"edge9\" class=\"edge\">\n",
              "<title>10849625968&#45;&gt;10849622992</title>\n",
              "<path fill=\"none\" stroke=\"black\" d=\"M353,-586.83C353,-580.32 353,-571.17 353,-562.87\"/>\n",
              "<polygon fill=\"black\" stroke=\"black\" points=\"356.5,-562.87 353,-552.87 349.5,-562.87 356.5,-562.87\"/>\n",
              "</g>\n",
              "<!-- 10849620352 -->\n",
              "<g id=\"node12\" class=\"node\">\n",
              "<title>10849620352</title>\n",
              "<polygon fill=\"lightgrey\" stroke=\"black\" points=\"258,-661.5 164,-661.5 164,-642.25 258,-642.25 258,-661.5\"/>\n",
              "<text text-anchor=\"middle\" x=\"211\" y=\"-648\" font-family=\"monospace\" font-size=\"10.00\">ReluBackward0</text>\n",
              "</g>\n",
              "<!-- 10849620352&#45;&gt;10849625968 -->\n",
              "<g id=\"edge10\" class=\"edge\">\n",
              "<title>10849620352&#45;&gt;10849625968</title>\n",
              "<path fill=\"none\" stroke=\"black\" d=\"M235.09,-641.84C257.94,-633.27 292.52,-620.31 318.33,-610.63\"/>\n",
              "<polygon fill=\"black\" stroke=\"black\" points=\"319.24,-614.02 327.38,-607.23 316.78,-607.47 319.24,-614.02\"/>\n",
              "</g>\n",
              "<!-- 10849624000 -->\n",
              "<g id=\"node13\" class=\"node\">\n",
              "<title>10849624000</title>\n",
              "<polygon fill=\"lightgrey\" stroke=\"black\" points=\"246,-722.38 122,-722.38 122,-703.12 246,-703.12 246,-722.38\"/>\n",
              "<text text-anchor=\"middle\" x=\"184\" y=\"-708.88\" font-family=\"monospace\" font-size=\"10.00\">MaxPool2DBackward0</text>\n",
              "</g>\n",
              "<!-- 10849624000&#45;&gt;10849620352 -->\n",
              "<g id=\"edge11\" class=\"edge\">\n",
              "<title>10849624000&#45;&gt;10849620352</title>\n",
              "<path fill=\"none\" stroke=\"black\" d=\"M188.1,-702.81C191.83,-694.68 197.45,-682.42 202.19,-672.08\"/>\n",
              "<polygon fill=\"black\" stroke=\"black\" points=\"205.24,-673.83 206.23,-663.28 198.88,-670.91 205.24,-673.83\"/>\n",
              "</g>\n",
              "<!-- 10849622224 -->\n",
              "<g id=\"node14\" class=\"node\">\n",
              "<title>10849622224</title>\n",
              "<polygon fill=\"lightgrey\" stroke=\"black\" points=\"252,-783.25 116,-783.25 116,-764 252,-764 252,-783.25\"/>\n",
              "<text text-anchor=\"middle\" x=\"184\" y=\"-769.75\" font-family=\"monospace\" font-size=\"10.00\">ConvolutionBackward0</text>\n",
              "</g>\n",
              "<!-- 10849622224&#45;&gt;10849624000 -->\n",
              "<g id=\"edge12\" class=\"edge\">\n",
              "<title>10849622224&#45;&gt;10849624000</title>\n",
              "<path fill=\"none\" stroke=\"black\" d=\"M184,-763.68C184,-755.9 184,-744.33 184,-734.28\"/>\n",
              "<polygon fill=\"black\" stroke=\"black\" points=\"187.5,-734.29 184,-724.29 180.5,-734.29 187.5,-734.29\"/>\n",
              "</g>\n",
              "<!-- 10849621264 -->\n",
              "<g id=\"node15\" class=\"node\">\n",
              "<title>10849621264</title>\n",
              "<polygon fill=\"lightgrey\" stroke=\"black\" points=\"175,-838.5 75,-838.5 75,-819.25 175,-819.25 175,-838.5\"/>\n",
              "<text text-anchor=\"middle\" x=\"125\" y=\"-825\" font-family=\"monospace\" font-size=\"10.00\">AccumulateGrad</text>\n",
              "</g>\n",
              "<!-- 10849621264&#45;&gt;10849622224 -->\n",
              "<g id=\"edge13\" class=\"edge\">\n",
              "<title>10849621264&#45;&gt;10849622224</title>\n",
              "<path fill=\"none\" stroke=\"black\" d=\"M135.01,-818.84C143.37,-811.3 155.5,-800.35 165.6,-791.23\"/>\n",
              "<polygon fill=\"black\" stroke=\"black\" points=\"167.94,-793.84 173.02,-784.54 163.25,-788.64 167.94,-793.84\"/>\n",
              "</g>\n",
              "<!-- 6143624304 -->\n",
              "<g id=\"node16\" class=\"node\">\n",
              "<title>6143624304</title>\n",
              "<polygon fill=\"lightblue\" stroke=\"black\" points=\"178,-905 0,-905 0,-874.5 178,-874.5 178,-905\"/>\n",
              "<text text-anchor=\"middle\" x=\"89\" y=\"-891.5\" font-family=\"monospace\" font-size=\"10.00\">feature_maps_stack.0.weight</text>\n",
              "<text text-anchor=\"middle\" x=\"89\" y=\"-880.25\" font-family=\"monospace\" font-size=\"10.00\"> (10, 1, 5, 5)</text>\n",
              "</g>\n",
              "<!-- 6143624304&#45;&gt;10849621264 -->\n",
              "<g id=\"edge14\" class=\"edge\">\n",
              "<title>6143624304&#45;&gt;10849621264</title>\n",
              "<path fill=\"none\" stroke=\"black\" d=\"M97.9,-874.2C102.64,-866.44 108.53,-856.81 113.6,-848.51\"/>\n",
              "<polygon fill=\"black\" stroke=\"black\" points=\"116.43,-850.6 118.66,-840.24 110.46,-846.95 116.43,-850.6\"/>\n",
              "</g>\n",
              "<!-- 10849622656 -->\n",
              "<g id=\"node17\" class=\"node\">\n",
              "<title>10849622656</title>\n",
              "<polygon fill=\"lightgrey\" stroke=\"black\" points=\"311,-838.5 211,-838.5 211,-819.25 311,-819.25 311,-838.5\"/>\n",
              "<text text-anchor=\"middle\" x=\"261\" y=\"-825\" font-family=\"monospace\" font-size=\"10.00\">AccumulateGrad</text>\n",
              "</g>\n",
              "<!-- 10849622656&#45;&gt;10849622224 -->\n",
              "<g id=\"edge15\" class=\"edge\">\n",
              "<title>10849622656&#45;&gt;10849622224</title>\n",
              "<path fill=\"none\" stroke=\"black\" d=\"M247.94,-818.84C236.54,-810.96 219.77,-799.36 206.26,-790.02\"/>\n",
              "<polygon fill=\"black\" stroke=\"black\" points=\"208.59,-787.37 198.37,-784.56 204.6,-793.13 208.59,-787.37\"/>\n",
              "</g>\n",
              "<!-- 6143625264 -->\n",
              "<g id=\"node18\" class=\"node\">\n",
              "<title>6143625264</title>\n",
              "<polygon fill=\"lightblue\" stroke=\"black\" points=\"362,-905 196,-905 196,-874.5 362,-874.5 362,-905\"/>\n",
              "<text text-anchor=\"middle\" x=\"279\" y=\"-891.5\" font-family=\"monospace\" font-size=\"10.00\">feature_maps_stack.0.bias</text>\n",
              "<text text-anchor=\"middle\" x=\"279\" y=\"-880.25\" font-family=\"monospace\" font-size=\"10.00\"> (10)</text>\n",
              "</g>\n",
              "<!-- 6143625264&#45;&gt;10849622656 -->\n",
              "<g id=\"edge16\" class=\"edge\">\n",
              "<title>6143625264&#45;&gt;10849622656</title>\n",
              "<path fill=\"none\" stroke=\"black\" d=\"M274.55,-874.2C272.31,-866.87 269.56,-857.87 267.12,-849.91\"/>\n",
              "<polygon fill=\"black\" stroke=\"black\" points=\"270.49,-848.94 264.22,-840.4 263.79,-850.99 270.49,-848.94\"/>\n",
              "</g>\n",
              "<!-- 10849623808 -->\n",
              "<g id=\"node19\" class=\"node\">\n",
              "<title>10849623808</title>\n",
              "<polygon fill=\"lightgrey\" stroke=\"black\" points=\"403,-661.5 303,-661.5 303,-642.25 403,-642.25 403,-661.5\"/>\n",
              "<text text-anchor=\"middle\" x=\"353\" y=\"-648\" font-family=\"monospace\" font-size=\"10.00\">AccumulateGrad</text>\n",
              "</g>\n",
              "<!-- 10849623808&#45;&gt;10849625968 -->\n",
              "<g id=\"edge17\" class=\"edge\">\n",
              "<title>10849623808&#45;&gt;10849625968</title>\n",
              "<path fill=\"none\" stroke=\"black\" d=\"M353,-642.08C353,-635.57 353,-626.42 353,-618.12\"/>\n",
              "<polygon fill=\"black\" stroke=\"black\" points=\"356.5,-618.12 353,-608.12 349.5,-618.12 356.5,-618.12\"/>\n",
              "</g>\n",
              "<!-- 6090580304 -->\n",
              "<g id=\"node20\" class=\"node\">\n",
              "<title>6090580304</title>\n",
              "<polygon fill=\"lightblue\" stroke=\"black\" points=\"442,-728 264,-728 264,-697.5 442,-697.5 442,-728\"/>\n",
              "<text text-anchor=\"middle\" x=\"353\" y=\"-714.5\" font-family=\"monospace\" font-size=\"10.00\">feature_maps_stack.3.weight</text>\n",
              "<text text-anchor=\"middle\" x=\"353\" y=\"-703.25\" font-family=\"monospace\" font-size=\"10.00\"> (20, 10, 5, 5)</text>\n",
              "</g>\n",
              "<!-- 6090580304&#45;&gt;10849623808 -->\n",
              "<g id=\"edge18\" class=\"edge\">\n",
              "<title>6090580304&#45;&gt;10849623808</title>\n",
              "<path fill=\"none\" stroke=\"black\" d=\"M353,-697.2C353,-689.96 353,-681.09 353,-673.19\"/>\n",
              "<polygon fill=\"black\" stroke=\"black\" points=\"356.5,-673.46 353,-663.46 349.5,-673.46 356.5,-673.46\"/>\n",
              "</g>\n",
              "<!-- 10849620160 -->\n",
              "<g id=\"node21\" class=\"node\">\n",
              "<title>10849620160</title>\n",
              "<polygon fill=\"lightgrey\" stroke=\"black\" points=\"557,-661.5 457,-661.5 457,-642.25 557,-642.25 557,-661.5\"/>\n",
              "<text text-anchor=\"middle\" x=\"507\" y=\"-648\" font-family=\"monospace\" font-size=\"10.00\">AccumulateGrad</text>\n",
              "</g>\n",
              "<!-- 10849620160&#45;&gt;10849625968 -->\n",
              "<g id=\"edge19\" class=\"edge\">\n",
              "<title>10849620160&#45;&gt;10849625968</title>\n",
              "<path fill=\"none\" stroke=\"black\" d=\"M480.88,-641.84C455.88,-633.2 417.92,-620.07 389.85,-610.37\"/>\n",
              "<polygon fill=\"black\" stroke=\"black\" points=\"391.28,-607.16 380.68,-607.2 388.99,-613.77 391.28,-607.16\"/>\n",
              "</g>\n",
              "<!-- 6143624208 -->\n",
              "<g id=\"node22\" class=\"node\">\n",
              "<title>6143624208</title>\n",
              "<polygon fill=\"lightblue\" stroke=\"black\" points=\"626,-728 460,-728 460,-697.5 626,-697.5 626,-728\"/>\n",
              "<text text-anchor=\"middle\" x=\"543\" y=\"-714.5\" font-family=\"monospace\" font-size=\"10.00\">feature_maps_stack.3.bias</text>\n",
              "<text text-anchor=\"middle\" x=\"543\" y=\"-703.25\" font-family=\"monospace\" font-size=\"10.00\"> (20)</text>\n",
              "</g>\n",
              "<!-- 6143624208&#45;&gt;10849620160 -->\n",
              "<g id=\"edge20\" class=\"edge\">\n",
              "<title>6143624208&#45;&gt;10849620160</title>\n",
              "<path fill=\"none\" stroke=\"black\" d=\"M534.1,-697.2C529.36,-689.44 523.47,-679.81 518.4,-671.51\"/>\n",
              "<polygon fill=\"black\" stroke=\"black\" points=\"521.54,-669.95 513.34,-663.24 515.57,-673.6 521.54,-669.95\"/>\n",
              "</g>\n",
              "<!-- 10849627264 -->\n",
              "<g id=\"node23\" class=\"node\">\n",
              "<title>10849627264</title>\n",
              "<polygon fill=\"lightgrey\" stroke=\"black\" points=\"545,-374 445,-374 445,-354.75 545,-354.75 545,-374\"/>\n",
              "<text text-anchor=\"middle\" x=\"495\" y=\"-360.5\" font-family=\"monospace\" font-size=\"10.00\">AccumulateGrad</text>\n",
              "</g>\n",
              "<!-- 10849627264&#45;&gt;10849614720 -->\n",
              "<g id=\"edge21\" class=\"edge\">\n",
              "<title>10849627264&#45;&gt;10849614720</title>\n",
              "<path fill=\"none\" stroke=\"black\" d=\"M495,-354.43C495,-346.65 495,-335.08 495,-325.03\"/>\n",
              "<polygon fill=\"black\" stroke=\"black\" points=\"498.5,-325.04 495,-315.04 491.5,-325.04 498.5,-325.04\"/>\n",
              "</g>\n",
              "<!-- 6143625072 -->\n",
              "<g id=\"node24\" class=\"node\">\n",
              "<title>6143625072</title>\n",
              "<polygon fill=\"lightblue\" stroke=\"black\" points=\"572,-440.5 418,-440.5 418,-410 572,-410 572,-440.5\"/>\n",
              "<text text-anchor=\"middle\" x=\"495\" y=\"-427\" font-family=\"monospace\" font-size=\"10.00\">classify_stack.1.weight</text>\n",
              "<text text-anchor=\"middle\" x=\"495\" y=\"-415.75\" font-family=\"monospace\" font-size=\"10.00\"> (50, 320)</text>\n",
              "</g>\n",
              "<!-- 6143625072&#45;&gt;10849627264 -->\n",
              "<g id=\"edge22\" class=\"edge\">\n",
              "<title>6143625072&#45;&gt;10849627264</title>\n",
              "<path fill=\"none\" stroke=\"black\" d=\"M495,-409.7C495,-402.46 495,-393.59 495,-385.69\"/>\n",
              "<polygon fill=\"black\" stroke=\"black\" points=\"498.5,-385.96 495,-375.96 491.5,-385.96 498.5,-385.96\"/>\n",
              "</g>\n",
              "<!-- 10849622272 -->\n",
              "<g id=\"node25\" class=\"node\">\n",
              "<title>10849622272</title>\n",
              "<polygon fill=\"lightgrey\" stroke=\"black\" points=\"687,-374 587,-374 587,-354.75 687,-354.75 687,-374\"/>\n",
              "<text text-anchor=\"middle\" x=\"637\" y=\"-360.5\" font-family=\"monospace\" font-size=\"10.00\">AccumulateGrad</text>\n",
              "</g>\n",
              "<!-- 10849622272&#45;&gt;10849614720 -->\n",
              "<g id=\"edge23\" class=\"edge\">\n",
              "<title>10849622272&#45;&gt;10849614720</title>\n",
              "<path fill=\"none\" stroke=\"black\" d=\"M615.12,-354.3C591.6,-344.55 553.97,-328.95 527.1,-317.81\"/>\n",
              "<polygon fill=\"black\" stroke=\"black\" points=\"528.64,-314.66 518.07,-314.06 525.96,-321.13 528.64,-314.66\"/>\n",
              "</g>\n",
              "<!-- 6143831856 -->\n",
              "<g id=\"node26\" class=\"node\">\n",
              "<title>6143831856</title>\n",
              "<polygon fill=\"lightblue\" stroke=\"black\" points=\"732,-440.5 590,-440.5 590,-410 732,-410 732,-440.5\"/>\n",
              "<text text-anchor=\"middle\" x=\"661\" y=\"-427\" font-family=\"monospace\" font-size=\"10.00\">classify_stack.1.bias</text>\n",
              "<text text-anchor=\"middle\" x=\"661\" y=\"-415.75\" font-family=\"monospace\" font-size=\"10.00\"> (50)</text>\n",
              "</g>\n",
              "<!-- 6143831856&#45;&gt;10849622272 -->\n",
              "<g id=\"edge24\" class=\"edge\">\n",
              "<title>6143831856&#45;&gt;10849622272</title>\n",
              "<path fill=\"none\" stroke=\"black\" d=\"M655.07,-409.7C652.01,-402.2 648.24,-392.95 644.94,-384.85\"/>\n",
              "<polygon fill=\"black\" stroke=\"black\" points=\"648.29,-383.79 641.27,-375.85 641.81,-386.43 648.29,-383.79\"/>\n",
              "</g>\n",
              "<!-- 10849607280 -->\n",
              "<g id=\"node27\" class=\"node\">\n",
              "<title>10849607280</title>\n",
              "<polygon fill=\"lightgrey\" stroke=\"black\" points=\"693,-252.25 593,-252.25 593,-233 693,-233 693,-252.25\"/>\n",
              "<text text-anchor=\"middle\" x=\"643\" y=\"-238.75\" font-family=\"monospace\" font-size=\"10.00\">AccumulateGrad</text>\n",
              "</g>\n",
              "<!-- 10849607280&#45;&gt;10849581904 -->\n",
              "<g id=\"edge25\" class=\"edge\">\n",
              "<title>10849607280&#45;&gt;10849581904</title>\n",
              "<path fill=\"none\" stroke=\"black\" d=\"M643,-232.83C643,-226.32 643,-217.17 643,-208.87\"/>\n",
              "<polygon fill=\"black\" stroke=\"black\" points=\"646.5,-208.87 643,-198.87 639.5,-208.87 646.5,-208.87\"/>\n",
              "</g>\n",
              "<!-- 6143830896 -->\n",
              "<g id=\"node28\" class=\"node\">\n",
              "<title>6143830896</title>\n",
              "<polygon fill=\"lightblue\" stroke=\"black\" points=\"720,-318.75 566,-318.75 566,-288.25 720,-288.25 720,-318.75\"/>\n",
              "<text text-anchor=\"middle\" x=\"643\" y=\"-305.25\" font-family=\"monospace\" font-size=\"10.00\">classify_stack.3.weight</text>\n",
              "<text text-anchor=\"middle\" x=\"643\" y=\"-294\" font-family=\"monospace\" font-size=\"10.00\"> (10, 50)</text>\n",
              "</g>\n",
              "<!-- 6143830896&#45;&gt;10849607280 -->\n",
              "<g id=\"edge26\" class=\"edge\">\n",
              "<title>6143830896&#45;&gt;10849607280</title>\n",
              "<path fill=\"none\" stroke=\"black\" d=\"M643,-287.95C643,-280.71 643,-271.84 643,-263.94\"/>\n",
              "<polygon fill=\"black\" stroke=\"black\" points=\"646.5,-264.21 643,-254.21 639.5,-264.21 646.5,-264.21\"/>\n",
              "</g>\n",
              "<!-- 10849615728 -->\n",
              "<g id=\"node29\" class=\"node\">\n",
              "<title>10849615728</title>\n",
              "<polygon fill=\"lightgrey\" stroke=\"black\" points=\"835,-252.25 735,-252.25 735,-233 835,-233 835,-252.25\"/>\n",
              "<text text-anchor=\"middle\" x=\"785\" y=\"-238.75\" font-family=\"monospace\" font-size=\"10.00\">AccumulateGrad</text>\n",
              "</g>\n",
              "<!-- 10849615728&#45;&gt;10849581904 -->\n",
              "<g id=\"edge27\" class=\"edge\">\n",
              "<title>10849615728&#45;&gt;10849581904</title>\n",
              "<path fill=\"none\" stroke=\"black\" d=\"M760.91,-232.59C738.06,-224.02 703.48,-211.06 677.67,-201.38\"/>\n",
              "<polygon fill=\"black\" stroke=\"black\" points=\"679.22,-198.22 668.62,-197.98 676.76,-204.77 679.22,-198.22\"/>\n",
              "</g>\n",
              "<!-- 6143833968 -->\n",
              "<g id=\"node30\" class=\"node\">\n",
              "<title>6143833968</title>\n",
              "<polygon fill=\"lightblue\" stroke=\"black\" points=\"880,-318.75 738,-318.75 738,-288.25 880,-288.25 880,-318.75\"/>\n",
              "<text text-anchor=\"middle\" x=\"809\" y=\"-305.25\" font-family=\"monospace\" font-size=\"10.00\">classify_stack.3.bias</text>\n",
              "<text text-anchor=\"middle\" x=\"809\" y=\"-294\" font-family=\"monospace\" font-size=\"10.00\"> (10)</text>\n",
              "</g>\n",
              "<!-- 6143833968&#45;&gt;10849615728 -->\n",
              "<g id=\"edge28\" class=\"edge\">\n",
              "<title>6143833968&#45;&gt;10849615728</title>\n",
              "<path fill=\"none\" stroke=\"black\" d=\"M803.07,-287.95C800.01,-280.45 796.24,-271.2 792.94,-263.1\"/>\n",
              "<polygon fill=\"black\" stroke=\"black\" points=\"796.29,-262.04 789.27,-254.1 789.81,-264.68 796.29,-262.04\"/>\n",
              "</g>\n",
              "</g>\n",
              "</svg>\n"
            ],
            "text/plain": [
              "<graphviz.graphs.Digraph at 0x28705c490>"
            ]
          },
          "execution_count": 31,
          "metadata": {},
          "output_type": "execute_result"
        }
      ],
      "source": [
        "# plot out networks\n",
        "from torchviz import make_dot\n",
        "\n",
        "examples = enumerate(train_dataloader)\n",
        "batch_idx, (example_data, example_targets) = next(examples)\n",
        "\n",
        "sample_pred = model(example_data.to(device)).cpu()\n",
        "make_dot(sample_pred, params=dict(model.named_parameters()))"
      ]
    },
    {
      "cell_type": "markdown",
      "metadata": {},
      "source": [
        "Read more about [building neural networks in PyTorch](buildmodel_tutorial.html).\n",
        "\n",
        "\n"
      ]
    },
    {
      "cell_type": "markdown",
      "metadata": {},
      "source": [
        "--------------\n",
        "\n",
        "\n"
      ]
    },
    {
      "cell_type": "markdown",
      "metadata": {},
      "source": [
        "## Optimizing the Model Parameters\n",
        "To train a model, we need a [loss function](https://pytorch.org/docs/stable/nn.html#loss-functions)\n",
        "and an [optimizer](https://pytorch.org/docs/stable/optim.html).\n",
        "\n"
      ]
    },
    {
      "cell_type": "code",
      "execution_count": null,
      "metadata": {
        "collapsed": false
      },
      "outputs": [],
      "source": [
        "loss_fn = nn.CrossEntropyLoss()\n",
        "learning_rate = 0.01\n",
        "momentum = 0.5\n",
        "log_interval = 100\n",
        "n_epochs = 3\n",
        "\n",
        "optimizer = torch.optim.SGD(model.parameters(), lr=learning_rate, momentum=momentum)\n",
        "\n",
        "train_losses = []\n",
        "train_counter = []\n",
        "test_losses = []\n",
        "test_counter = [i*len(train_dataloader.dataset) for i in range(n_epochs + 1)]"
      ]
    },
    {
      "cell_type": "markdown",
      "metadata": {},
      "source": [
        "In a single training loop, the model makes predictions on the training dataset (fed to it in batches), and\n",
        "backpropagates the prediction error to adjust the model's parameters.\n",
        "\n"
      ]
    },
    {
      "cell_type": "code",
      "execution_count": null,
      "metadata": {
        "collapsed": false
      },
      "outputs": [],
      "source": [
        "def train(epoch):\n",
        "    model.train()\n",
        "    for batch, (data, target) in enumerate(train_dataloader):\n",
        "        # send the data to hardware device\n",
        "        data, target = data.to(device), target.to(device)\n",
        "        # reset zero gradients and forward pass in model\n",
        "        optimizer.zero_grad()\n",
        "        output = model(data)\n",
        "        # compute loss function\n",
        "        loss = nn.functional.nll_loss(output, target)\n",
        "        # backward pass to computer gradients\n",
        "        loss.backward()\n",
        "        # update model with optimizer\n",
        "        optimizer.step()\n",
        "\n",
        "        if batch % log_interval == 0:\n",
        "            print('Train Epoch: {} [{}/{} ({:.0f}%)]\\tLoss: {:.6f}'.format(\n",
        "                epoch, batch * len(data), len(train_dataloader.dataset),\n",
        "                100. * batch / len(train_dataloader), loss.item()))\n",
        "            train_losses.append(loss.item())\n",
        "            train_counter.append(\n",
        "                (batch*64) + ((epoch-1)*len(train_dataloader.dataset)))\n",
        "            \n",
        "            torch.save(model.state_dict(), 'model.pth')\n",
        "            torch.save(optimizer.state_dict(), 'optimizer.pth')"
      ]
    },
    {
      "cell_type": "markdown",
      "metadata": {},
      "source": [
        "We also check the model's performance against the test dataset to ensure it is learning.\n",
        "\n"
      ]
    },
    {
      "cell_type": "code",
      "execution_count": 249,
      "metadata": {
        "collapsed": false
      },
      "outputs": [],
      "source": [
        "def test():\n",
        "    # enable the testing mode\n",
        "    model.eval()\n",
        "    test_loss = 0\n",
        "    correct = 0\n",
        "    \n",
        "    with torch.no_grad():\n",
        "        for data, target in test_dataloader:\n",
        "            # send the data to hardware device\n",
        "            data, target = data.to(device), target.to(device)\n",
        "            output = model(data)\n",
        "            # Compute the negative log likelihood loss\n",
        "            test_loss += nn.functional.nll_loss(output, target, size_average=False).item()\n",
        "            # Get the index of the maximum log-probability\n",
        "            pred = output.data.max(1, keepdim=True)[1]\n",
        "            # Count the number of correct predictions\n",
        "            correct += pred.eq(target.data.view_as(pred)).sum()\n",
        "    \n",
        "    # Compute average loss        \n",
        "    test_loss /= len(test_dataloader.dataset)\n",
        "    test_losses.append(test_loss)\n",
        "    \n",
        "    print('\\nTest set: Avg. loss: {:.4f}, Accuracy: {}/{} ({:.0f}%)\\n'.format(\n",
        "        test_loss, correct, len(test_dataloader.dataset),\n",
        "        100. * correct / len(test_dataloader.dataset)))"
      ]
    },
    {
      "cell_type": "markdown",
      "metadata": {},
      "source": [
        "The training process is conducted over several iterations (*epochs*). During each epoch, the model learns\n",
        "parameters to make better predictions. We print the model's accuracy and loss at each epoch; we'd like to see the\n",
        "accuracy increase and the loss decrease with every epoch.\n",
        "\n"
      ]
    },
    {
      "cell_type": "code",
      "execution_count": null,
      "metadata": {
        "collapsed": false
      },
      "outputs": [],
      "source": [
        "epochs = 5\n",
        "test()\n",
        "for t in range(1, n_epochs + 1):\n",
        "    print(f\"Epoch {t+1}\\n-------------------------------\")\n",
        "    train(t)\n",
        "    test()\n",
        "print(\"Done!\")"
      ]
    },
    {
      "cell_type": "markdown",
      "metadata": {},
      "source": [
        "Read more about [Training your model](optimization_tutorial.html).\n",
        "\n",
        "\n"
      ]
    },
    {
      "cell_type": "markdown",
      "metadata": {},
      "source": [
        "--------------\n",
        "\n",
        "\n"
      ]
    },
    {
      "cell_type": "markdown",
      "metadata": {},
      "source": [
        "## Saving Models\n",
        "A common way to save a model is to serialize the internal state dictionary (containing the model parameters).\n",
        "\n"
      ]
    },
    {
      "cell_type": "code",
      "execution_count": null,
      "metadata": {
        "collapsed": false
      },
      "outputs": [],
      "source": [
        "torch.save(model.state_dict(), \"model.pth\")\n",
        "print(\"Saved PyTorch Model State to model.pth\")"
      ]
    },
    {
      "cell_type": "markdown",
      "metadata": {},
      "source": [
        "## Loading Models\n",
        "\n",
        "The process for loading a model includes re-creating the model structure and loading\n",
        "the state dictionary into it.\n",
        "\n"
      ]
    },
    {
      "cell_type": "code",
      "execution_count": 248,
      "metadata": {
        "collapsed": false
      },
      "outputs": [
        {
          "data": {
            "text/plain": [
              "<All keys matched successfully>"
            ]
          },
          "execution_count": 248,
          "metadata": {},
          "output_type": "execute_result"
        }
      ],
      "source": [
        "model = NeuralNetwork().to(device)\n",
        "model.load_state_dict(torch.load(\"model.pth\"))"
      ]
    },
    {
      "cell_type": "code",
      "execution_count": null,
      "metadata": {},
      "outputs": [],
      "source": [
        "import matplotlib.pyplot as plt\n",
        "\n",
        "fig = plt.figure()\n",
        "plt.plot(train_counter, train_losses, color='blue')\n",
        "plt.scatter(test_counter, test_losses, color='red')\n",
        "plt.legend(['Train Loss', 'Test Loss'], loc='upper right')\n",
        "plt.xlabel('number of training examples seen')\n",
        "plt.ylabel('negative log likelihood loss')\n",
        "fig"
      ]
    },
    {
      "cell_type": "code",
      "execution_count": null,
      "metadata": {},
      "outputs": [],
      "source": [
        "import copy\n",
        "\n",
        "with torch.no_grad():\n",
        "  example_data_gpu = example_data.to(device)\n",
        "  output = model(example_data_gpu)\n",
        "  example_data_local = [tensor.cpu() for tensor in example_data_gpu]"
      ]
    },
    {
      "cell_type": "code",
      "execution_count": null,
      "metadata": {},
      "outputs": [],
      "source": [
        "fig = plt.figure()\n",
        "for i in range(6):\n",
        "  plt.subplot(2,3,i+1)\n",
        "  plt.tight_layout()\n",
        "  plt.imshow(example_data_local[i][0], cmap='gray', interpolation='none')\n",
        "  plt.title(\"Prediction: {}\".format(\n",
        "    output.data.max(1, keepdim=True)[1][i].item()))\n",
        "  plt.xticks([])\n",
        "  plt.yticks([])\n",
        "fig"
      ]
    },
    {
      "cell_type": "markdown",
      "metadata": {},
      "source": [
        "This model can now be used to make predictions.\n",
        "\n"
      ]
    },
    {
      "cell_type": "code",
      "execution_count": null,
      "metadata": {
        "collapsed": false
      },
      "outputs": [],
      "source": [
        "continued_network = NeuralNetwork()\n",
        "continued_optimizer = torch.optim.SGD(model.parameters(), lr=learning_rate,\n",
        "                                momentum=momentum)"
      ]
    },
    {
      "cell_type": "code",
      "execution_count": null,
      "metadata": {},
      "outputs": [],
      "source": [
        "network_state_dict = torch.load(\"model.pth\")\n",
        "continued_network.load_state_dict(network_state_dict)\n",
        "\n",
        "optimizer_state_dict = torch.load(\"optimizer.pth\")\n",
        "continued_optimizer.load_state_dict(optimizer_state_dict)"
      ]
    },
    {
      "cell_type": "code",
      "execution_count": null,
      "metadata": {},
      "outputs": [],
      "source": [
        "for i in range(4,9):\n",
        "  test_counter.append(i*len(train_dataloader.dataset))\n",
        "  train(i)\n",
        "  test()"
      ]
    },
    {
      "cell_type": "markdown",
      "metadata": {},
      "source": [
        "Read more about [Saving & Loading your model](saveloadrun_tutorial.html).\n",
        "\n",
        "\n"
      ]
    },
    {
      "cell_type": "code",
      "execution_count": null,
      "metadata": {},
      "outputs": [],
      "source": [
        "fig = plt.figure()\n",
        "plt.plot(train_counter, train_losses, color='blue')\n",
        "plt.scatter(test_counter, test_losses, color='red')\n",
        "plt.legend(['Train Loss', 'Test Loss'], loc='upper right')\n",
        "plt.xlabel('number of training examples seen')\n",
        "plt.ylabel('negative log likelihood loss')\n",
        "fig"
      ]
    }
  ],
  "metadata": {
    "kernelspec": {
      "display_name": "Python 3",
      "language": "python",
      "name": "python3"
    },
    "language_info": {
      "codemirror_mode": {
        "name": "ipython",
        "version": 3
      },
      "file_extension": ".py",
      "mimetype": "text/x-python",
      "name": "python",
      "nbconvert_exporter": "python",
      "pygments_lexer": "ipython3",
      "version": "3.11.6"
    }
  },
  "nbformat": 4,
  "nbformat_minor": 0
}
