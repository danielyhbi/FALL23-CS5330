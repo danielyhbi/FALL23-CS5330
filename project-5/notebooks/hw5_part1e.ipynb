{
 "cells": [
  {
   "cell_type": "code",
   "execution_count": 45,
   "metadata": {},
   "outputs": [],
   "source": [
    "import sys\n",
    "import torch\n",
    "from torch import nn\n",
    "from torch.utils.data import DataLoader, Subset\n",
    "from torchvision import datasets\n",
    "from torchvision.transforms import ToTensor\n",
    "import torchvision.transforms as transforms\n",
    "import torch.nn.functional as F\n",
    "import matplotlib.pyplot as plt\n",
    "\n",
    "import hw5_part1 as hw5"
   ]
  },
  {
   "cell_type": "code",
   "execution_count": 46,
   "metadata": {},
   "outputs": [
    {
     "name": "stdout",
     "output_type": "stream",
     "text": [
      "Using mps device\n"
     ]
    },
    {
     "data": {
      "text/plain": [
       "<All keys matched successfully>"
      ]
     },
     "execution_count": 46,
     "metadata": {},
     "output_type": "execute_result"
    }
   ],
   "source": [
    "mnist_global_mean = 0.1307\n",
    "mnist_global_stdev = 0.3081\n",
    "\n",
    "device = hw5.get_device()\n",
    "model = hw5.NeuralNetwork().to(device)\n",
    "model.load_state_dict(torch.load(\"model.pth\"))"
   ]
  },
  {
   "cell_type": "code",
   "execution_count": 47,
   "metadata": {},
   "outputs": [],
   "source": [
    "def load_data():\n",
    "  \n",
    "  transformer = transforms.Compose([transforms.ToTensor(), transforms.Normalize((mnist_global_mean,), (mnist_global_stdev,))])\n",
    "  \n",
    "  # Download test data from open datasets.\n",
    "  test_data = datasets.MNIST(\n",
    "      root=\"./data\",\n",
    "      train=False,\n",
    "      download=True,\n",
    "      transform=transformer,\n",
    "  )\n",
    "  \n",
    "  subset_index = list(range(10))\n",
    "  \n",
    "  subset_test_data = Subset(test_data, subset_index)\n",
    "  \n",
    "  return DataLoader(subset_test_data, batch_size=10, shuffle=False)"
   ]
  },
  {
   "cell_type": "code",
   "execution_count": 48,
   "metadata": {},
   "outputs": [],
   "source": [
    "def eval(test_dataloader):\n",
    "   # enable the testing mode\n",
    "    model.eval()\n",
    "    test_loss = 0\n",
    "    correct = 0\n",
    "    \n",
    "    with torch.no_grad():\n",
    "        for data, target in test_dataloader:\n",
    "            # send the data to hardware device\n",
    "            data, target = data.to(device), target.to(device)\n",
    "            output = model(data)\n",
    "            # Compute the negative log likelihood loss\n",
    "            test_loss += nn.functional.nll_loss(output, target, size_average=False).item()\n",
    "            # Get the index of the maximum log-probability\n",
    "            pred = output.data.max(1, keepdim=True)[1]\n",
    "            # Count the number of correct predictions\n",
    "            correct += pred.eq(target.data.view_as(pred)).sum()\n",
    "    \n",
    "    # Compute average loss        \n",
    "    test_loss /= len(test_dataloader.dataset)\n",
    "    test_losses.append(test_loss)\n",
    "    \n",
    "    print('\\nTest set: Avg. loss: {:.4f}, Accuracy: {}/{} ({:.0f}%)\\n'.format(\n",
    "        test_loss, correct, len(test_dataloader.dataset),\n",
    "        100. * correct / len(test_dataloader.dataset)))\n",
    "    return"
   ]
  },
  {
   "cell_type": "code",
   "execution_count": 44,
   "metadata": {},
   "outputs": [
    {
     "name": "stdout",
     "output_type": "stream",
     "text": [
      "Shape of X [N, C, H, W]: torch.Size([10, 1, 28, 28])\n",
      "Shape of y: torch.Size([10]) torch.int64\n",
      "tensor([7, 2, 1, 0, 4, 1, 4, 9, 5, 9])\n",
      "Example 1 - Correct Label: 7, Predicted Label: 7, Probabilities: 1.00\n",
      "Example 2 - Correct Label: 2, Predicted Label: 2, Probabilities: 0.97\n",
      "Example 3 - Correct Label: 1, Predicted Label: 1, Probabilities: 0.99\n",
      "Example 4 - Correct Label: 0, Predicted Label: 0, Probabilities: 1.00\n",
      "Example 5 - Correct Label: 4, Predicted Label: 4, Probabilities: 0.99\n",
      "Example 6 - Correct Label: 1, Predicted Label: 1, Probabilities: 1.00\n",
      "Example 7 - Correct Label: 4, Predicted Label: 4, Probabilities: 0.97\n",
      "Example 8 - Correct Label: 9, Predicted Label: 9, Probabilities: 0.73\n",
      "Example 9 - Correct Label: 5, Predicted Label: 2, Probabilities: 0.48\n",
      "Example 10 - Correct Label: 9, Predicted Label: 9, Probabilities: 0.96\n"
     ]
    }
   ],
   "source": [
    "subset_test_dataloader = load_data()\n",
    "\n",
    "for X, y in subset_test_dataloader:\n",
    "    print(f\"Shape of X [N, C, H, W]: {X.shape}\")\n",
    "    print(f\"Shape of y: {y.shape} {y.dtype}\")\n",
    "    break\n",
    "\n",
    "\n",
    "examples = enumerate(subset_test_dataloader)\n",
    "batch_idx, (example_data, example_targets) = next(examples)\n",
    "\n",
    "print(example_targets)\n",
    "\n",
    "with torch.no_grad():\n",
    "    example_data, example_targets = example_data.to(device), example_targets.to(device)\n",
    "    output = model(example_data)\n",
    "    probabilities = F.softmax(output, dim=1)\n",
    "    predicted = output.data.max(1, keepdim=True)[1]\n",
    "    \n",
    "    top_p, top_class = probabilities.topk(1, dim = 1)\n",
    "    \n",
    "    # print(top_p)\n",
    "    # print(top_class)\n",
    "    \n",
    "    for i in range(len(example_data)):\n",
    "        print(f\"Example {i + 1} - Correct Label: {example_targets[i]}, Predicted Label: {top_class[i].item()}, Probabilities: {top_p[i].item():.2f}\")\n",
    "\n"
   ]
  },
  {
   "cell_type": "code",
   "execution_count": 17,
   "metadata": {},
   "outputs": [
    {
     "data": {
      "image/png": "[encoded data removed]",
      "text/plain": [
       "<Figure size 640x480 with 9 Axes>"
      ]
     },
     "metadata": {},
     "output_type": "display_data"
    }
   ],
   "source": [
    "example_data_local = [tensor.cpu() for tensor in example_data]\n",
    "\n",
    "fig = plt.figure()\n",
    "for i in range(9):\n",
    "  plt.subplot(3,3,i+1)\n",
    "  plt.tight_layout()\n",
    "  plt.imshow(example_data_local[i][0], cmap='gray', interpolation='none')\n",
    "  plt.title(\"Prediction: {}\".format(\n",
    "    output.data.max(1, keepdim=True)[1][i].item()))\n",
    "  plt.xticks([])\n",
    "  plt.yticks([])\n",
    "\n",
    "plt.show()"
   ]
  }
 ],
 "metadata": {
  "kernelspec": {
   "display_name": "Python 3",
   "language": "python",
   "name": "python3"
  },
  "language_info": {
   "codemirror_mode": {
    "name": "ipython",
    "version": 3
   },
   "file_extension": ".py",
   "mimetype": "text/x-python",
   "name": "python",
   "nbconvert_exporter": "python",
   "pygments_lexer": "ipython3",
   "version": "3.11.6"
  }
 },
 "nbformat": 4,
 "nbformat_minor": 2
}
