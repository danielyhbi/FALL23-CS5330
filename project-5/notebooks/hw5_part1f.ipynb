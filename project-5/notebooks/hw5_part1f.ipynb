{
 "cells": [
  {
   "cell_type": "code",
   "execution_count": 1,
   "metadata": {},
   "outputs": [],
   "source": [
    "import sys\n",
    "import torch\n",
    "from torch import nn\n",
    "from torch.utils.data import DataLoader, Subset\n",
    "from torchvision import datasets\n",
    "from torchvision.transforms import ToTensor\n",
    "import torchvision.transforms as transforms\n",
    "import torch.nn.functional as F\n",
    "import matplotlib.pyplot as plt\n",
    "\n",
    "import hw5_part1 as hw5\n",
    "from hw5_part1f import CustomDataset"
   ]
  },
  {
   "cell_type": "code",
   "execution_count": 3,
   "metadata": {},
   "outputs": [],
   "source": [
    "# env var\n",
    "mnist_global_mean = 0.1307\n",
    "mnist_global_stdev = 0.3081\n",
    "\n",
    "# load custom data\n",
    "transformer = transforms.Compose([\n",
    "    transforms.Resize((28, 28)),\n",
    "    transforms.ToTensor(),\n",
    "    transforms.Normalize((mnist_global_mean,), (mnist_global_stdev,))\n",
    "    ])\n",
    "\n",
    "new_dataset = CustomDataset(root_dir='/Users/danielbi/git-repo/FALL23-CS5330/playground/pyTorch/data/SelfWriting', transform=transformer)\n"
   ]
  },
  {
   "cell_type": "code",
   "execution_count": 4,
   "metadata": {},
   "outputs": [
    {
     "name": "stdout",
     "output_type": "stream",
     "text": [
      "Shape of X [N, C, H, W]: torch.Size([10, 1, 28, 28])\n",
      "Shape of y: torch.Size([10]) torch.int64\n"
     ]
    }
   ],
   "source": [
    "data_loader = DataLoader(new_dataset, batch_size=10, shuffle=False)\n",
    "    \n",
    "for X, y in data_loader:\n",
    "    print(f\"Shape of X [N, C, H, W]: {X.shape}\")\n",
    "    print(f\"Shape of y: {y.shape} {y.dtype}\")\n",
    "    break"
   ]
  },
  {
   "cell_type": "code",
   "execution_count": 5,
   "metadata": {},
   "outputs": [
    {
     "name": "stdout",
     "output_type": "stream",
     "text": [
      "tensor([0, 1, 2, 3, 4, 5, 6, 7, 8, 9])\n"
     ]
    },
    {
     "data": {
      "image/png": "[encoded data removed]",
      "text/plain": [
       "<Figure size 640x480 with 9 Axes>"
      ]
     },
     "metadata": {},
     "output_type": "display_data"
    }
   ],
   "source": [
    "examples = enumerate(data_loader)\n",
    "batch_idx, (example_data, example_targets) = next(examples)\n",
    "\n",
    "print(example_targets)\n",
    "\n",
    "fig = plt.figure()\n",
    "for i in range(9):\n",
    "  plt.subplot(3,3,i+1)\n",
    "  plt.tight_layout()\n",
    "  plt.imshow(example_data[i][0], cmap='gray', interpolation='none')\n",
    "  plt.title(\"Ground Truth: {}\".format(example_targets[i]))\n",
    "  plt.xticks([])\n",
    "  plt.yticks([])\n",
    "plt.show()"
   ]
  },
  {
   "cell_type": "code",
   "execution_count": 6,
   "metadata": {},
   "outputs": [
    {
     "name": "stdout",
     "output_type": "stream",
     "text": [
      "Using mps device\n"
     ]
    },
    {
     "data": {
      "text/plain": [
       "<All keys matched successfully>"
      ]
     },
     "execution_count": 6,
     "metadata": {},
     "output_type": "execute_result"
    }
   ],
   "source": [
    "device = hw5.get_device()\n",
    "model = hw5.NeuralNetwork().to(device)\n",
    "model.load_state_dict(torch.load(\"model.pth\"))"
   ]
  },
  {
   "cell_type": "code",
   "execution_count": 7,
   "metadata": {},
   "outputs": [
    {
     "name": "stdout",
     "output_type": "stream",
     "text": [
      "Example 1 - Correct Label: 0, Predicted Label: 2, Probabilities: 0.79\n",
      "Example 2 - Correct Label: 1, Predicted Label: 1, Probabilities: 1.00\n",
      "Example 3 - Correct Label: 2, Predicted Label: 2, Probabilities: 1.00\n",
      "Example 4 - Correct Label: 3, Predicted Label: 3, Probabilities: 0.98\n",
      "Example 5 - Correct Label: 4, Predicted Label: 9, Probabilities: 0.60\n",
      "Example 6 - Correct Label: 5, Predicted Label: 5, Probabilities: 0.87\n",
      "Example 7 - Correct Label: 6, Predicted Label: 6, Probabilities: 0.84\n",
      "Example 8 - Correct Label: 7, Predicted Label: 2, Probabilities: 0.46\n",
      "Example 9 - Correct Label: 8, Predicted Label: 8, Probabilities: 0.68\n",
      "Example 10 - Correct Label: 9, Predicted Label: 7, Probabilities: 0.34\n"
     ]
    }
   ],
   "source": [
    "with torch.no_grad():\n",
    "    example_data, example_targets = example_data.to(device), example_targets.to(device)\n",
    "    output = model(example_data)\n",
    "    probabilities = F.softmax(output, dim=1)\n",
    "    predicted = output.data.max(1, keepdim=True)[1]\n",
    "    \n",
    "    top_p, top_class = probabilities.topk(1, dim = 1)\n",
    "    \n",
    "    # print(top_p)\n",
    "    # print(top_class)\n",
    "    \n",
    "    for i in range(len(example_data)):\n",
    "        print(f\"Example {i + 1} - Correct Label: {example_targets[i]}, Predicted Label: {top_class[i].item()}, Probabilities: {top_p[i].item():.2f}\")\n",
    "\n"
   ]
  }
 ],
 "metadata": {
  "kernelspec": {
   "display_name": "Python 3",
   "language": "python",
   "name": "python3"
  },
  "language_info": {
   "codemirror_mode": {
    "name": "ipython",
    "version": 3
   },
   "file_extension": ".py",
   "mimetype": "text/x-python",
   "name": "python",
   "nbconvert_exporter": "python",
   "pygments_lexer": "ipython3",
   "version": "3.11.6"
  }
 },
 "nbformat": 4,
 "nbformat_minor": 2
}
